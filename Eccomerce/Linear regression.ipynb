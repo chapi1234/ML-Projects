{
 "cells": [
  {
   "cell_type": "code",
   "execution_count": null,
   "id": "2b7de437-7c68-42c2-9aff-2b13ff6e98e7",
   "metadata": {},
   "outputs": [
    {
     "ename": "ModuleNotFoundError",
     "evalue": "No module named 'pandas'",
     "output_type": "error",
     "traceback": [
      "\u001b[1;31m---------------------------------------------------------------------------\u001b[0m",
      "\u001b[1;31mModuleNotFoundError\u001b[0m                       Traceback (most recent call last)",
      "Cell \u001b[1;32mIn[2], line 1\u001b[0m\n\u001b[1;32m----> 1\u001b[0m \u001b[38;5;28;01mimport\u001b[39;00m \u001b[38;5;21;01mpandas\u001b[39;00m \u001b[38;5;28;01mas\u001b[39;00m \u001b[38;5;21;01mpd\u001b[39;00m\n\u001b[0;32m      2\u001b[0m \u001b[38;5;28;01mimport\u001b[39;00m \u001b[38;5;21;01mmatplotlib\u001b[39;00m\u001b[38;5;21;01m.\u001b[39;00m\u001b[38;5;21;01mpyplot\u001b[39;00m \u001b[38;5;28;01mas\u001b[39;00m \u001b[38;5;21;01mplt\u001b[39;00m\n\u001b[0;32m      3\u001b[0m \u001b[38;5;28;01mimport\u001b[39;00m \u001b[38;5;21;01mseaborn\u001b[39;00m \u001b[38;5;28;01mas\u001b[39;00m \u001b[38;5;21;01msns\u001b[39;00m\n",
      "\u001b[1;31mModuleNotFoundError\u001b[0m: No module named 'pandas'"
     ]
    }
   ],
   "source": [
    "import pandas from  as pd\n",
    "import matplotlib.pyplot as plt\n",
    "import seaborn as sns  "
   ]
  },
  {
   "cell_type": "code",
   "execution_count": null,
   "id": "79b34f5a-7ceb-4688-8065-0001fe895377",
   "metadata": {},
   "outputs": [],
   "source": [
    "df = pd.read_csv(\"Ecommerce Customers.csv\")"
   ]
  },
  {
   "cell_type": "code",
   "execution_count": null,
   "id": "3b7d1f22-d36a-433f-89a9-b89fad758c46",
   "metadata": {},
   "outputs": [],
   "source": [
    "df.head()"
   ]
  },
  {
   "cell_type": "code",
   "execution_count": null,
   "id": "7a243b6a-015b-41a1-b4d1-5cedfd0f8b51",
   "metadata": {},
   "outputs": [],
   "source": [
    "df.info()"
   ]
  },
  {
   "cell_type": "code",
   "execution_count": null,
   "id": "843bdcf8-a4ed-4ad9-99da-96f39a0c3a21",
   "metadata": {},
   "outputs": [],
   "source": [
    "df.describe()"
   ]
  },
  {
   "cell_type": "code",
   "execution_count": null,
   "id": "1f58f45f-5656-4bec-8134-5cd656240af6",
   "metadata": {},
   "outputs": [],
   "source": [
    " #EDA\n",
    "\n",
    "sns.jointplot(x=\"Time on Website\", y=\"Yearly Amount Spent\", data=df, alpha=0.5)"
   ]
  },
  {
   "cell_type": "code",
   "execution_count": null,
   "id": "05feeab2-0aca-4609-a7c4-3080fd8de00f",
   "metadata": {},
   "outputs": [],
   "source": [
    "sns.jointplot(x=\"Length of Membership\", y=\"Avg. Session Length\", data=df, alpha=0.5)"
   ]
  },
  {
   "cell_type": "code",
   "execution_count": null,
   "id": "4db9e9c5-09bc-46d8-b5d2-7596687d5906",
   "metadata": {},
   "outputs": [],
   "source": [
    "sns.pairplot(df, kind='scatter', plot_kws={'alpha': 0.5})"
   ]
  },
  {
   "cell_type": "code",
   "execution_count": null,
   "id": "3213e63a-d545-4d2b-94ee-720985f332fc",
   "metadata": {},
   "outputs": [],
   "source": [
    "sns.lmplot(x = 'Length of Membership',\n",
    "          y = 'Yearly Amount Spent',\n",
    "          data = df,\n",
    "          scatter_kws={'alpha':0.3})"
   ]
  },
  {
   "cell_type": "code",
   "execution_count": null,
   "id": "7e41063c-5a74-4709-848c-f806760ed49d",
   "metadata": {},
   "outputs": [],
   "source": [
    "from sklearn.model_selection import train_test_split"
   ]
  },
  {
   "cell_type": "code",
   "execution_count": null,
   "id": "e2e91480-b2f6-4510-97a6-eaf776a12b22",
   "metadata": {},
   "outputs": [],
   "source": [
    "x = df[['Avg. Session Length', 'Time on App', 'Time on Website', 'Length of Membership']]\n",
    "y = df[ 'Yearly Amount Spent' ]"
   ]
  },
  {
   "cell_type": "code",
   "execution_count": null,
   "id": "d4b9cf3e-fd6c-4e98-8dbb-5e5080220f55",
   "metadata": {},
   "outputs": [],
   "source": [
    "x_train, x_test, y_train, y_test = train_test_split(x, y, test_size=0.3, random_state=42)"
   ]
  },
  {
   "cell_type": "code",
   "execution_count": null,
   "id": "d099daee-9265-44c0-bc3d-39e2d6bfce48",
   "metadata": {},
   "outputs": [],
   "source": [
    "# training the model"
   ]
  },
  {
   "cell_type": "code",
   "execution_count": null,
   "id": "16492a66-f762-45e6-ba09-d2f302549485",
   "metadata": {},
   "outputs": [],
   "source": [
    "from sklearn.linear_model import LinearRegression"
   ]
  },
  {
   "cell_type": "code",
   "execution_count": null,
   "id": "1ab65a6d-ed94-4bda-bf1f-a68cf8028d60",
   "metadata": {},
   "outputs": [],
   "source": [
    "lm = LinearRegression()"
   ]
  },
  {
   "cell_type": "code",
   "execution_count": null,
   "id": "c1c51099-c6d6-4b2e-99cf-928d684ee471",
   "metadata": {},
   "outputs": [],
   "source": [
    "lm.fit(x_train, y_train)"
   ]
  },
  {
   "cell_type": "code",
   "execution_count": null,
   "id": "71a692de-2c47-42a8-937f-67bcb26a81b1",
   "metadata": {},
   "outputs": [],
   "source": [
    "lm.coef_"
   ]
  },
  {
   "cell_type": "code",
   "execution_count": null,
   "id": "bc0ccd2b-d013-4daa-b837-4bc6a6a35534",
   "metadata": {},
   "outputs": [],
   "source": [
    "cdf = pd.DataFrame(lm.coef_, x.columns, columns = ['Coef'])\n",
    "print(cdf)"
   ]
  },
  {
   "cell_type": "code",
   "execution_count": null,
   "id": "cdd212c7-1e05-430f-99ab-9bab9912dc34",
   "metadata": {},
   "outputs": [],
   "source": []
  }
 ],
 "metadata": {
  "kernelspec": {
   "display_name": "Python 3",
   "language": "python",
   "name": "python3"
  },
  "language_info": {
   "codemirror_mode": {
    "name": "ipython",
    "version": 3
   },
   "file_extension": ".py",
   "mimetype": "text/x-python",
   "name": "python",
   "nbconvert_exporter": "python",
   "pygments_lexer": "ipython3",
   "version": "3.11.3"
  }
 },
 "nbformat": 4,
 "nbformat_minor": 5
}
